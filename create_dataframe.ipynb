{
 "cells": [
  {
   "cell_type": "code",
   "execution_count": 3,
   "metadata": {},
   "outputs": [],
   "source": [
    "# !pip install librosa"
   ]
  },
  {
   "cell_type": "code",
   "execution_count": 51,
   "metadata": {},
   "outputs": [],
   "source": [
    "import pandas as pd\n",
    "import numpy as np\n",
    "import librosa"
   ]
  },
  {
   "cell_type": "code",
   "execution_count": 101,
   "metadata": {},
   "outputs": [
    {
     "data": {
      "text/html": [
       "<div>\n",
       "<style scoped>\n",
       "    .dataframe tbody tr th:only-of-type {\n",
       "        vertical-align: middle;\n",
       "    }\n",
       "\n",
       "    .dataframe tbody tr th {\n",
       "        vertical-align: top;\n",
       "    }\n",
       "\n",
       "    .dataframe thead th {\n",
       "        text-align: right;\n",
       "    }\n",
       "</style>\n",
       "<table border=\"1\" class=\"dataframe\">\n",
       "  <thead>\n",
       "    <tr style=\"text-align: right;\">\n",
       "      <th></th>\n",
       "      <th>mffc</th>\n",
       "      <th>rms</th>\n",
       "      <th>spec_band</th>\n",
       "      <th>spec_cent</th>\n",
       "      <th>spec_cqt</th>\n",
       "      <th>class</th>\n",
       "    </tr>\n",
       "  </thead>\n",
       "  <tbody>\n",
       "    <tr>\n",
       "      <th>0</th>\n",
       "      <td>-36.685158</td>\n",
       "      <td>0.046380</td>\n",
       "      <td>1849.262669</td>\n",
       "      <td>3307.843716</td>\n",
       "      <td>0.535886</td>\n",
       "      <td>1</td>\n",
       "    </tr>\n",
       "    <tr>\n",
       "      <th>1</th>\n",
       "      <td>-26.540089</td>\n",
       "      <td>0.118942</td>\n",
       "      <td>1492.162203</td>\n",
       "      <td>2566.485083</td>\n",
       "      <td>0.463013</td>\n",
       "      <td>1</td>\n",
       "    </tr>\n",
       "    <tr>\n",
       "      <th>2</th>\n",
       "      <td>-37.941922</td>\n",
       "      <td>0.036275</td>\n",
       "      <td>2269.277785</td>\n",
       "      <td>4221.014701</td>\n",
       "      <td>0.613848</td>\n",
       "      <td>1</td>\n",
       "    </tr>\n",
       "  </tbody>\n",
       "</table>\n",
       "</div>"
      ],
      "text/plain": [
       "        mffc       rms    spec_band    spec_cent  spec_cqt  class\n",
       "0 -36.685158  0.046380  1849.262669  3307.843716  0.535886      1\n",
       "1 -26.540089  0.118942  1492.162203  2566.485083  0.463013      1\n",
       "2 -37.941922  0.036275  2269.277785  4221.014701  0.613848      1"
      ]
     },
     "execution_count": 101,
     "metadata": {},
     "output_type": "execute_result"
    }
   ],
   "source": [
    "# Create a list of paths to all audio files and assign it to a variable\n",
    "files = librosa.util.find_files('./Audio/') # in parameters, set the path to audio files\n",
    "\n",
    "# Create an empty list to append lists of values from different features to it\n",
    "values = []\n",
    "\n",
    "# Loop through the list of paths and load the files\n",
    "for file in files: \n",
    "    # y = audio time series\n",
    "    # sr = sample rate of 'y'\n",
    "    y, sr = librosa.load(file)\n",
    "    \n",
    "    # get the mean of different feature values\n",
    "    mffc = np.mean(librosa.feature.mfcc(y=y, n_mfcc=13))\n",
    "    rms = np.mean(librosa.feature.rms(y))\n",
    "    spec_band = np.mean(librosa.feature.spectral_bandwidth(y))\n",
    "    spec_cent = np.mean(librosa.feature.spectral_centroid(y))\n",
    "    spec_cqt = np.mean(librosa.feature.chroma_cqt(y, n_chroma=20))\n",
    "    \n",
    "    # append to the list\n",
    "    values.append([mffc, rms, spec_band, spec_cent, spec_cqt])\n",
    "\n",
    "# Create a DataFrame out of the list\n",
    "df = pd.DataFrame(values, columns=['mffc', 'rms', 'spec_band', 'spec_cent', 'spec_cqt'])\n",
    "df['class'] = 1\n",
    "df"
   ]
  },
  {
   "cell_type": "markdown",
   "metadata": {},
   "source": [
    "#### Below, I tested out almost all features. The number of lists inside of each array is determined by certain parameters"
   ]
  },
  {
   "cell_type": "code",
   "execution_count": 69,
   "metadata": {},
   "outputs": [
    {
     "data": {
      "text/plain": [
       "(15, 1292)"
      ]
     },
     "execution_count": 69,
     "metadata": {},
     "output_type": "execute_result"
    }
   ],
   "source": [
    "# n_chroma determines how many lists it will have\n",
    "librosa.feature.chroma_cens(y, n_chroma=15).shape"
   ]
  },
  {
   "cell_type": "code",
   "execution_count": 72,
   "metadata": {},
   "outputs": [
    {
     "data": {
      "text/plain": [
       "(20, 1292)"
      ]
     },
     "execution_count": 72,
     "metadata": {},
     "output_type": "execute_result"
    }
   ],
   "source": [
    "# n_chroma determines how many lists it will have\n",
    "librosa.feature.chroma_cqt(y, n_chroma=20).shape"
   ]
  },
  {
   "cell_type": "code",
   "execution_count": 75,
   "metadata": {},
   "outputs": [
    {
     "data": {
      "text/plain": [
       "(25, 1292)"
      ]
     },
     "execution_count": 75,
     "metadata": {},
     "output_type": "execute_result"
    }
   ],
   "source": [
    "# n_chroma determines how many lists it will have\n",
    "librosa.feature.chroma_stft(y, n_chroma=25).shape"
   ]
  },
  {
   "cell_type": "code",
   "execution_count": 79,
   "metadata": {},
   "outputs": [
    {
     "data": {
      "text/plain": [
       "(128, 1292)"
      ]
     },
     "execution_count": 79,
     "metadata": {},
     "output_type": "execute_result"
    }
   ],
   "source": [
    "librosa.feature.melspectrogram(y).shape"
   ]
  },
  {
   "cell_type": "code",
   "execution_count": 80,
   "metadata": {},
   "outputs": [
    {
     "data": {
      "text/plain": [
       "(40, 1292)"
      ]
     },
     "execution_count": 80,
     "metadata": {},
     "output_type": "execute_result"
    }
   ],
   "source": [
    "# n_mfcc determines how many lists it will have\n",
    "librosa.feature.mfcc(y, n_mfcc=40).shape"
   ]
  },
  {
   "cell_type": "code",
   "execution_count": 81,
   "metadata": {},
   "outputs": [
    {
     "data": {
      "text/plain": [
       "(2, 1292)"
      ]
     },
     "execution_count": 81,
     "metadata": {},
     "output_type": "execute_result"
    }
   ],
   "source": [
    "librosa.feature.poly_features(y).shape"
   ]
  },
  {
   "cell_type": "code",
   "execution_count": 85,
   "metadata": {},
   "outputs": [
    {
     "data": {
      "text/plain": [
       "(1, 1292)"
      ]
     },
     "execution_count": 85,
     "metadata": {},
     "output_type": "execute_result"
    }
   ],
   "source": [
    "librosa.feature.rms(y).shape"
   ]
  },
  {
   "cell_type": "code",
   "execution_count": 87,
   "metadata": {},
   "outputs": [
    {
     "data": {
      "text/plain": [
       "(1, 1292)"
      ]
     },
     "execution_count": 87,
     "metadata": {},
     "output_type": "execute_result"
    }
   ],
   "source": [
    "librosa.feature.rmse(y).shape"
   ]
  },
  {
   "cell_type": "code",
   "execution_count": 89,
   "metadata": {},
   "outputs": [
    {
     "data": {
      "text/plain": [
       "(1, 1292)"
      ]
     },
     "execution_count": 89,
     "metadata": {},
     "output_type": "execute_result"
    }
   ],
   "source": [
    "librosa.feature.spectral_bandwidth(y).shape"
   ]
  },
  {
   "cell_type": "code",
   "execution_count": 90,
   "metadata": {},
   "outputs": [
    {
     "data": {
      "text/plain": [
       "(1, 1292)"
      ]
     },
     "execution_count": 90,
     "metadata": {},
     "output_type": "execute_result"
    }
   ],
   "source": [
    "librosa.feature.spectral_centroid(y).shape"
   ]
  },
  {
   "cell_type": "code",
   "execution_count": 97,
   "metadata": {},
   "outputs": [
    {
     "data": {
      "text/plain": [
       "(4, 1292)"
      ]
     },
     "execution_count": 97,
     "metadata": {},
     "output_type": "execute_result"
    }
   ],
   "source": [
    "# n_bands determines how many lists it will have\n",
    "# add +1 to get the number of lists\n",
    "librosa.feature.spectral_contrast(y, n_bands=3).shape"
   ]
  }
 ],
 "metadata": {
  "kernelspec": {
   "display_name": "Python 3",
   "language": "python",
   "name": "python3"
  },
  "language_info": {
   "codemirror_mode": {
    "name": "ipython",
    "version": 3
   },
   "file_extension": ".py",
   "mimetype": "text/x-python",
   "name": "python",
   "nbconvert_exporter": "python",
   "pygments_lexer": "ipython3",
   "version": "3.7.2"
  }
 },
 "nbformat": 4,
 "nbformat_minor": 2
}
